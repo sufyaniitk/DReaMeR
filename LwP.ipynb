{
 "cells": [
  {
   "cell_type": "code",
   "execution_count": 2,
   "metadata": {},
   "outputs": [],
   "source": [
    "# import all modules here\n",
    "\n",
    "import numpy as np\n",
    "import os\n",
    "import pickle\n",
    "\n",
    "from data import load_data\n",
    "from visualiser import visualize_images, plot_class_frequencies, convert_to_grayscale\n",
    "from feature_ import l_features, extract_features, get_from_gpu\n",
    "from LwP_ import LwP, LwP_updated\n",
    "from sampler import sampler\n",
    "\n",
    "import torch\n",
    "import warnings\n",
    "warnings.filterwarnings('ignore')"
   ]
  },
  {
   "cell_type": "code",
   "execution_count": 2,
   "metadata": {},
   "outputs": [],
   "source": [
    "os.environ['PYTORCH_CUDA_ALLOC_CONF'] = 'expandable_segments:True'"
   ]
  },
  {
   "cell_type": "code",
   "execution_count": null,
   "metadata": {},
   "outputs": [],
   "source": [
    "images, labels = load_data(1, 'train', 'one')\n",
    "imgs = []\n",
    "new_labels = []\n",
    "for idx, image in enumerate(images):\n",
    "    imgs.append(image)\n",
    "    new_labels.append(labels[idx])\n",
    "    s = sampler(image)\n",
    "    # img1\n",
    "    img2 = s.generate()\n",
    "\n",
    "    # imgs.append(img1)\n",
    "    imgs.append(img2)\n",
    "\n",
    "    # new_labels.append(labels[idx])\n",
    "    new_labels.append(labels[idx])\n",
    "\n",
    "imgs = np.asanyarray(imgs)\n",
    "new_labels = np.asanyarray(new_labels)"
   ]
  },
  {
   "cell_type": "code",
   "execution_count": null,
   "metadata": {},
   "outputs": [],
   "source": [
    "torch.cuda.reset_peak_memory_stats()\n",
    "torch.cuda.empty_cache()\n",
    "features = extract_features(imgs, batch_size=1)\n",
    "model = LwP(10)\n",
    "model.fit(features, new_labels)\n",
    "\n",
    "X_eval, y_eval = load_data(1, 'eval', 'one')\n",
    "X_eval = extract_features(X_eval)\n",
    "y_pred = model.predict(X_eval)\n",
    "print(np.mean(y_pred == y_eval))"
   ]
  },
  {
   "cell_type": "code",
   "execution_count": null,
   "metadata": {},
   "outputs": [],
   "source": [
    "images, labels = load_data(1, \"train\", \"one\")"
   ]
  },
  {
   "cell_type": "code",
   "execution_count": null,
   "metadata": {},
   "outputs": [],
   "source": [
    "#Number of unique labels\n",
    "np.unique(labels)"
   ]
  },
  {
   "cell_type": "code",
   "execution_count": null,
   "metadata": {},
   "outputs": [],
   "source": [
    "visualize_images(images, labels, 10)\n",
    "plot_class_frequencies(images, labels)"
   ]
  },
  {
   "cell_type": "code",
   "execution_count": null,
   "metadata": {},
   "outputs": [],
   "source": [
    "visualize_images(images, labels, 10)"
   ]
  },
  {
   "cell_type": "code",
   "execution_count": null,
   "metadata": {},
   "outputs": [],
   "source": [
    "images = convert_to_grayscale(images)"
   ]
  },
  {
   "cell_type": "code",
   "execution_count": null,
   "metadata": {},
   "outputs": [],
   "source": [
    " # Flatten each 32x32 image to a 1024-dimensional vector\n",
    "N = images.shape[0]\n",
    "flattened_images = images.reshape(N, -1) "
   ]
  },
  {
   "cell_type": "code",
   "execution_count": null,
   "metadata": {},
   "outputs": [],
   "source": [
    "flattened_images.shape"
   ]
  },
  {
   "cell_type": "markdown",
   "metadata": {},
   "source": [
    "## Generalized LwP"
   ]
  },
  {
   "cell_type": "markdown",
   "metadata": {},
   "source": [
    "### Assuming Gaussian class conditional with Different Inverse Covariance Matrix"
   ]
  },
  {
   "cell_type": "code",
   "execution_count": null,
   "metadata": {},
   "outputs": [],
   "source": [
    "# LwP model with euclidean distance on flattened_images\n",
    "model = LwP(n_prototypes=10)\n",
    "model.fit(flattened_images, labels)\n",
    "\n",
    "# loading eval dataset\n",
    "X_eval, y_eval = load_data(1, \"eval\", \"one\")\n",
    "X_eval = convert_to_grayscale(X_eval)\n",
    "X_eval = X_eval.reshape(X_eval.shape[0], -1)\n",
    "\n",
    "# predicting on it\n",
    "predictions = model.predict(X_eval, name = \"euclidean\")\n",
    "accuracy = np.mean(predictions == np.asarray(y_eval))\n",
    "print(f'Accuracy: {accuracy * 100:.2f}%')"
   ]
  },
  {
   "cell_type": "code",
   "execution_count": null,
   "metadata": {},
   "outputs": [],
   "source": [
    "# Using LwP_updated\n",
    "# LwP model with mahalanobis distance on flattened_images\n",
    "model = LwP_updated(n_prototypes=10)\n",
    "model.fit(flattened_images, labels)\n",
    "\n",
    "# loading eval dataset\n",
    "X_eval, y_eval = load_data(1, \"eval\", \"one\")\n",
    "X_eval = convert_to_grayscale(X_eval)\n",
    "X_eval = X_eval.reshape(X_eval.shape[0], -1)\n",
    "\n",
    "# predicting on it\n",
    "\n",
    "predictions = model.predict(X_eval)\n",
    "accuracy = np.mean(predictions == np.asarray(y_eval))\n",
    "print(f'Accuracy: {accuracy * 100:.2f}%')"
   ]
  },
  {
   "cell_type": "markdown",
   "metadata": {},
   "source": [
    "## Trying new Approach by extracting features using Neural Network"
   ]
  },
  {
   "cell_type": "code",
   "execution_count": null,
   "metadata": {},
   "outputs": [],
   "source": [
    "X_train, y_train = load_data(1, \"train\", \"one\")\n",
    "X_train = [t.cpu().numpy() for t in extract_features(X_train)]\n",
    "X_train = np.vstack(X_train)"
   ]
  },
  {
   "cell_type": "code",
   "execution_count": null,
   "metadata": {},
   "outputs": [],
   "source": [
    "model = LwP_updated(n_prototypes=10)\n",
    "model.fit(X_train, y_train)"
   ]
  },
  {
   "cell_type": "code",
   "execution_count": null,
   "metadata": {},
   "outputs": [],
   "source": [
    "X_eval, y_eval = load_data(1, \"eval\", \"one\")\n",
    "X_eval = get_from_gpu(extract_features(X_eval))\n",
    "y_pred = model.predict(X_eval, name=\"euclidean\")\n",
    "acc = np.mean(y_eval == y_pred)\n",
    "print(f'Accuracy on eval dataset is {acc * 100:.2f}%')"
   ]
  },
  {
   "cell_type": "code",
   "execution_count": null,
   "metadata": {},
   "outputs": [],
   "source": [
    "\"\"\"\n",
    "TODO\n",
    "Train on D1\n",
    "\n",
    "for i = 2 to 10\n",
    "    update train on Di\n",
    "        for j: i to 1\n",
    "            predict Dj with ith model\n",
    "\"\"\""
   ]
  },
  {
   "cell_type": "markdown",
   "metadata": {},
   "source": [
    "After changing model - found a sweet spot"
   ]
  },
  {
   "cell_type": "markdown",
   "metadata": {},
   "source": [
    "# sufy @ Nov 7 midnight - 1.2"
   ]
  },
  {
   "cell_type": "markdown",
   "metadata": {},
   "source": [
    "what I want to do here is on every new input dataset, learn the model which gives best accuracy on validation\n",
    "\n",
    "what this runs into - computational issues. There are $10^{2500}$ possible models straight out of the bat. Even if I take it down to say, choose among the top 2 by the current model, it is still $2^{2500}$ (between about $10^{750}$ and $10^{833}$)"
   ]
  },
  {
   "cell_type": "markdown",
   "metadata": {},
   "source": [
    "naive is subpar. need better update for these datasets"
   ]
  },
  {
   "cell_type": "markdown",
   "metadata": {},
   "source": [
    "# Task 1.2"
   ]
  },
  {
   "cell_type": "code",
   "execution_count": null,
   "metadata": {},
   "outputs": [],
   "source": [
    "res = [[0] * 10 for _ in range(10)]\n",
    "model = LwP(10)\n",
    "\n",
    "y = load_data(1, \"train\", \"one\", y_only = True)\n",
    "X = l_features(1, \"train\", \"one\")\n",
    "model.fit(X, y)\n",
    "y_eval = load_data(1, \"eval\", \"one\", y_only = True)\n",
    "X_eval = l_features(1, \"eval\", \"one\")\n",
    "y_pred = model.predict(X_eval)\n",
    "acc = np.mean(y_eval == y_pred)\n",
    "\n",
    "res[0][0] = f'{acc*100:.2f}'\n",
    "res[0][0]"
   ]
  },
  {
   "cell_type": "code",
   "execution_count": null,
   "metadata": {},
   "outputs": [],
   "source": [
    "for i in range(2, 11):\n",
    "    print(f'Running {i}')\n",
    "    print(res[i - 2])\n",
    "    X = l_features(i, 'train', 'one')\n",
    "    y = model.predict(X)\n",
    "    model.update(X, y)\n",
    "\n",
    "    for j in range(1, i + 1):\n",
    "        y = load_data(j, 'eval', 'one', y_only=True)\n",
    "        X = l_features(j, 'eval', 'one')\n",
    "        y_pred = model.predict(X)\n",
    "\n",
    "        acc = np.mean(y_pred == y)\n",
    "        res[i - 1][j - 1] = f'{acc * 100:.2f}'"
   ]
  },
  {
   "cell_type": "code",
   "execution_count": null,
   "metadata": {},
   "outputs": [],
   "source": [
    "for i in res:\n",
    "    for j in i:\n",
    "        print(j, end = ' ')\n",
    "    print()"
   ]
  },
  {
   "cell_type": "markdown",
   "metadata": {},
   "source": [
    "# main event"
   ]
  },
  {
   "cell_type": "code",
   "execution_count": null,
   "metadata": {},
   "outputs": [],
   "source": [
    "with open('model.pkl', 'wb') as f:\n",
    "     pickle.dump(model, f)"
   ]
  },
  {
   "cell_type": "code",
   "execution_count": 9,
   "metadata": {},
   "outputs": [],
   "source": [
    "model2 = pickle.load(open('model.pkl', 'rb'))"
   ]
  },
  {
   "cell_type": "code",
   "execution_count": 10,
   "metadata": {},
   "outputs": [
    {
     "data": {
      "text/plain": [
       "LwP_.LwP"
      ]
     },
     "execution_count": 10,
     "metadata": {},
     "output_type": "execute_result"
    }
   ],
   "source": [
    "type(model2)"
   ]
  },
  {
   "cell_type": "code",
   "execution_count": 11,
   "metadata": {},
   "outputs": [
    {
     "data": {
      "image/png": "[encoded data removed]",
      "text/plain": [
       "<Figure size 1000x200 with 5 Axes>"
      ]
     },
     "metadata": {},
     "output_type": "display_data"
    },
    {
     "name": "stderr",
     "output_type": "stream",
     "text": [
      "Clipping input data to the valid range for imshow with RGB data ([0..1] for floats or [0..255] for integers). Got range [-0.65808016..2.256082].\n",
      "Clipping input data to the valid range for imshow with RGB data ([0..1] for floats or [0..255] for integers). Got range [-0.5024361..2.3145099].\n",
      "Clipping input data to the valid range for imshow with RGB data ([0..1] for floats or [0..255] for integers). Got range [-0.48050445..2.333443].\n",
      "Clipping input data to the valid range for imshow with RGB data ([0..1] for floats or [0..255] for integers). Got range [-0.46081603..1.9760383].\n",
      "Clipping input data to the valid range for imshow with RGB data ([0..1] for floats or [0..255] for integers). Got range [-0.6161454..2.1356997].\n"
     ]
    },
    {
     "name": "stdout",
     "output_type": "stream",
     "text": [
      "torch.Size([10, 3, 32, 32]) torch.Size([10])\n",
      "hmmmm\n",
      "Bye\n"
     ]
    },
    {
     "data": {
      "image/png": "[encoded data removed]",
      "text/plain": [
       "<Figure size 1000x200 with 5 Axes>"
      ]
     },
     "metadata": {},
     "output_type": "display_data"
    },
    {
     "data": {
      "text/plain": [
       "array([[[-0.12866257, -0.17158414,  0.24362241],\n",
       "        [ 0.05387272,  0.33261212,  0.22330438],\n",
       "        [-0.00341484, -0.12072949,  0.2538114 ],\n",
       "        ...,\n",
       "        [-0.45741519, -0.09432456,  0.25147707],\n",
       "        [-0.49888202, -0.06235024,  0.28144165],\n",
       "        [-0.48327407, -0.05204889,  0.29943869]],\n",
       "\n",
       "       [[ 0.21131543,  0.35540942, -0.05122704],\n",
       "        [ 0.33619985,  0.51772869,  0.15113114],\n",
       "        [ 0.34387815,  0.46815533,  0.17221923],\n",
       "        ...,\n",
       "        [-0.32685635,  0.03997084,  0.3411206 ],\n",
       "        [-0.3610771 ,  0.0402648 ,  0.35140884],\n",
       "        [-0.27860722,  0.02718802,  0.35716364]],\n",
       "\n",
       "       [[ 0.20343074, -0.10394917,  0.26254228],\n",
       "        [ 0.33591733,  0.45254886,  0.24718115],\n",
       "        [ 0.23036501,  0.27717786,  0.42650259],\n",
       "        ...,\n",
       "        [-0.29851637,  0.0210758 , -0.12282636],\n",
       "        [-0.30922309,  0.04552438,  0.35474747],\n",
       "        [-0.21872911,  0.09462492,  0.33331625]],\n",
       "\n",
       "       ...,\n",
       "\n",
       "       [[-0.73117514, -0.4619294 ,  0.33280651],\n",
       "        [-0.62268723, -0.22290953,  0.42684663],\n",
       "        [-0.54444738, -0.17284705, -0.16787904],\n",
       "        ...,\n",
       "        [-0.34780379, -0.08849606,  0.3955323 ],\n",
       "        [-0.06772272,  0.20473368, -0.01344301],\n",
       "        [-0.13556849,  0.26306229,  0.31523496]],\n",
       "\n",
       "       [[-0.54176148, -0.10023865,  0.31993669],\n",
       "        [-0.52767112, -0.34491459,  0.39261549],\n",
       "        [-0.4613554 , -0.15229216,  0.39396483],\n",
       "        ...,\n",
       "        [-0.49578031, -0.10305574,  0.37860232],\n",
       "        [-0.04516841,  0.18798962, -0.06915652],\n",
       "        [-0.22010676, -0.11008255,  0.30175702]],\n",
       "\n",
       "       [[-0.53451492, -0.1211501 , -0.28869108],\n",
       "        [-0.47703942, -0.06102529,  0.31554415],\n",
       "        [-0.47588577, -0.08860859,  0.3143446 ],\n",
       "        ...,\n",
       "        [-0.70833761, -0.18311013,  0.28650153],\n",
       "        [-0.36866876,  0.0123181 , -0.20295725],\n",
       "        [-0.31482366,  0.12259199, -0.20623104]]])"
      ]
     },
     "execution_count": 11,
     "metadata": {},
     "output_type": "execute_result"
    }
   ],
   "source": [
    "images1, labels1 = load_data(1, 'train', 'one')\n",
    "visualize_images(images1, labels1, 5)\n",
    "images = (torch.tensor(images1[:10]).float() / 255.0).cuda().permute(0, 3, 1, 2)\n",
    "labels = (torch.tensor(labels1[:10]).float()).cuda()\n",
    "print(images.shape, labels.shape)\n",
    "\n",
    "s = sampler(noise=1.0)\n",
    "print('hmmmm')\n",
    "new_images, new_labels = s.generate(images, labels, 1)\n",
    "print(\"Bye\")\n",
    "new_images = new_images.permute(0, 2, 3, 1).cpu().detach().numpy()\n",
    "new_labels = new_labels.cpu().detach().numpy()\n",
    "visualize_images(new_images, new_labels, 5)\n",
    "# visualize_images(images.cpu(), labels.cpu(), 10)\n",
    "\n",
    "images1[0] / 255.0 - new_images[0]"
   ]
  },
  {
   "cell_type": "code",
   "execution_count": 12,
   "metadata": {},
   "outputs": [
    {
     "name": "stdout",
     "output_type": "stream",
     "text": [
      "Running 1\n",
      "80.16 81.00 80.96 81.32 81.96 81.52 81.00 81.48 80.84 81.80 66.16 \n",
      "Running 2\n",
      "80.28 80.76 80.96 81.12 "
     ]
    },
    {
     "ename": "KeyboardInterrupt",
     "evalue": "",
     "output_type": "error",
     "traceback": [
      "\u001b[1;31m---------------------------------------------------------------------------\u001b[0m",
      "\u001b[1;31mKeyboardInterrupt\u001b[0m                         Traceback (most recent call last)",
      "Cell \u001b[1;32mIn[12], line 19\u001b[0m\n\u001b[0;32m     17\u001b[0m y \u001b[38;5;241m=\u001b[39m load_data(j, \u001b[38;5;124m'\u001b[39m\u001b[38;5;124meval\u001b[39m\u001b[38;5;124m'\u001b[39m, \u001b[38;5;124m'\u001b[39m\u001b[38;5;124mone\u001b[39m\u001b[38;5;124m'\u001b[39m, y_only\u001b[38;5;241m=\u001b[39m\u001b[38;5;28;01mTrue\u001b[39;00m)\n\u001b[0;32m     18\u001b[0m X \u001b[38;5;241m=\u001b[39m l_features(j, \u001b[38;5;124m'\u001b[39m\u001b[38;5;124meval\u001b[39m\u001b[38;5;124m'\u001b[39m, \u001b[38;5;124m'\u001b[39m\u001b[38;5;124mone\u001b[39m\u001b[38;5;124m'\u001b[39m)\n\u001b[1;32m---> 19\u001b[0m y_pred \u001b[38;5;241m=\u001b[39m \u001b[43mmodel2\u001b[49m\u001b[38;5;241;43m.\u001b[39;49m\u001b[43mpredict\u001b[49m\u001b[43m(\u001b[49m\u001b[43mX\u001b[49m\u001b[43m,\u001b[49m\u001b[43m \u001b[49m\u001b[38;5;124;43m'\u001b[39;49m\u001b[38;5;124;43meuc\u001b[39;49m\u001b[38;5;124;43m'\u001b[39;49m\u001b[43m)\u001b[49m\n\u001b[0;32m     21\u001b[0m acc \u001b[38;5;241m=\u001b[39m np\u001b[38;5;241m.\u001b[39mmean(y_pred \u001b[38;5;241m==\u001b[39m y)\n\u001b[0;32m     22\u001b[0m \u001b[38;5;66;03m# res[i - 1][j - 1] = f'{acc * 100:.2f}'\u001b[39;00m\n",
      "File \u001b[1;32mc:\\Users\\total\\OneDrive\\Desktop\\wf\\coursework\\this_sem\\CS771\\proj_ii\\RASNA_II\\LwP_.py:164\u001b[0m, in \u001b[0;36mLwP.predict\u001b[1;34m(self, X, name)\u001b[0m\n\u001b[0;32m    162\u001b[0m     distances \u001b[38;5;241m=\u001b[39m np\u001b[38;5;241m.\u001b[39mzeros(\u001b[38;5;28mlen\u001b[39m(\u001b[38;5;28mself\u001b[39m\u001b[38;5;241m.\u001b[39mlabels))\n\u001b[0;32m    163\u001b[0m     \u001b[38;5;28;01mfor\u001b[39;00m j, prototype \u001b[38;5;129;01min\u001b[39;00m \u001b[38;5;28menumerate\u001b[39m(\u001b[38;5;28mself\u001b[39m\u001b[38;5;241m.\u001b[39mprototypes):\n\u001b[1;32m--> 164\u001b[0m         distances[j] \u001b[38;5;241m=\u001b[39m \u001b[38;5;28;43mself\u001b[39;49m\u001b[38;5;241;43m.\u001b[39;49m\u001b[43mdistance\u001b[49m\u001b[43m(\u001b[49m\u001b[43mX\u001b[49m\u001b[43m[\u001b[49m\u001b[43mi\u001b[49m\u001b[43m]\u001b[49m\u001b[43m,\u001b[49m\u001b[43m \u001b[49m\u001b[43mprototype\u001b[49m\u001b[43m,\u001b[49m\u001b[43m \u001b[49m\u001b[43mname\u001b[49m\u001b[43m)\u001b[49m\n\u001b[0;32m    165\u001b[0m     predictions[i] \u001b[38;5;241m=\u001b[39m \u001b[38;5;28mself\u001b[39m\u001b[38;5;241m.\u001b[39mlabels[np\u001b[38;5;241m.\u001b[39margmin(distances)]\n\u001b[0;32m    167\u001b[0m \u001b[38;5;28;01mreturn\u001b[39;00m predictions\n",
      "File \u001b[1;32mc:\\Users\\total\\OneDrive\\Desktop\\wf\\coursework\\this_sem\\CS771\\proj_ii\\RASNA_II\\LwP_.py:53\u001b[0m, in \u001b[0;36mLwP.distance\u001b[1;34m(self, a, b, name)\u001b[0m\n\u001b[0;32m     51\u001b[0m diff \u001b[38;5;241m=\u001b[39m a \u001b[38;5;241m-\u001b[39m b\n\u001b[0;32m     52\u001b[0m mat \u001b[38;5;241m=\u001b[39m \u001b[38;5;28mself\u001b[39m\u001b[38;5;241m.\u001b[39minv_cov_matrix \u001b[38;5;28;01mif\u001b[39;00m name \u001b[38;5;241m==\u001b[39m \u001b[38;5;124m'\u001b[39m\u001b[38;5;124mmahalanobis\u001b[39m\u001b[38;5;124m'\u001b[39m \u001b[38;5;28;01melse\u001b[39;00m np\u001b[38;5;241m.\u001b[39meye(a\u001b[38;5;241m.\u001b[39mshape[\u001b[38;5;241m0\u001b[39m])\n\u001b[1;32m---> 53\u001b[0m \u001b[38;5;28;01mreturn\u001b[39;00m np\u001b[38;5;241m.\u001b[39msqrt(np\u001b[38;5;241m.\u001b[39mdot(\u001b[43mnp\u001b[49m\u001b[38;5;241;43m.\u001b[39;49m\u001b[43mdot\u001b[49m\u001b[43m(\u001b[49m\u001b[43mdiff\u001b[49m\u001b[43m,\u001b[49m\u001b[43m \u001b[49m\u001b[43mmat\u001b[49m\u001b[43m)\u001b[49m, diff\u001b[38;5;241m.\u001b[39mT))\n",
      "\u001b[1;31mKeyboardInterrupt\u001b[0m: "
     ]
    }
   ],
   "source": [
    "for i in range(1, 11): # for part two\n",
    "    print(f'Running {i}')\n",
    "\n",
    "    X = l_features(i, 'train', 'two')\n",
    "    im = load_data(i, 'train', 'two')\n",
    "\n",
    "    X_opt, y_opt = model2.top_k(X, 50, indices=True)\n",
    "    X_new = np.asanyarray([im[i] for i in X_opt])\n",
    "    X_new = ((torch.tensor(X_new)).float() / 255.0).permute(0, 3, 1, 2).cuda()\n",
    "    X_gen, y_gen = sampler().generate(X_new, torch.tensor(y_opt), 1)\n",
    "    X_gen = extract_features(X_gen)\n",
    "\n",
    "    # X_new, y_new = model2.top_k(X_new, 10*(i - 1))\n",
    "    if (i != 1): model2.update(X_gen, y_gen, True)\n",
    "\n",
    "    for j in range(1, 11):\n",
    "        y = load_data(j, 'eval', 'one', y_only=True)\n",
    "        X = l_features(j, 'eval', 'one')\n",
    "        y_pred = model2.predict(X, 'euc')\n",
    "\n",
    "        acc = np.mean(y_pred == y)\n",
    "        # res[i - 1][j - 1] = f'{acc * 100:.2f}'\n",
    "        print(f'{acc * 100:.2f}', end=' ')\n",
    "\n",
    "    for j in range(1, i + 1):\n",
    "        y = load_data(j, 'eval', 'two', y_only=True)\n",
    "        X = l_features(j, 'eval', 'two')\n",
    "        y_pred = model2.predict(X, 'euc')\n",
    "\n",
    "        acc = np.mean(y_pred == y)\n",
    "        # res[i - 1][j - 1] = f'{acc * 100:.2f}'\n",
    "        print(f'{acc * 100:.2f}', end=' ')\n",
    "\n",
    "    print()"
   ]
  }
 ],
 "metadata": {
  "kernelspec": {
   "display_name": "proj",
   "language": "python",
   "name": "python3"
  },
  "language_info": {
   "codemirror_mode": {
    "name": "ipython",
    "version": 3
   },
   "file_extension": ".py",
   "mimetype": "text/x-python",
   "name": "python",
   "nbconvert_exporter": "python",
   "pygments_lexer": "ipython3",
   "version": "3.12.5"
  }
 },
 "nbformat": 4,
 "nbformat_minor": 2
}
