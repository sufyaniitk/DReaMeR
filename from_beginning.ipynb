{
 "cells": [
  {
   "cell_type": "code",
   "execution_count": 1,
   "metadata": {},
   "outputs": [],
   "source": [
    "# import all modules here\n",
    "\n",
    "import numpy as np\n",
    "import os\n",
    "import pickle\n",
    "\n",
    "from data import load_data\n",
    "from visualiser import visualize_images, plot_class_frequencies, convert_to_grayscale\n",
    "from feature_ import l_features, extract_features, get_from_gpu\n",
    "from LwP_ import LwP, LwP_updated\n",
    "from sampler import sampler\n",
    "\n",
    "import torch\n",
    "import warnings\n",
    "warnings.filterwarnings('ignore')"
   ]
  },
  {
   "cell_type": "code",
   "execution_count": 2,
   "metadata": {},
   "outputs": [],
   "source": [
    "model = LwP(10)\n",
    "initial_img, initial_label = load_data(1, 'train', 'one')\n",
    "X_train = l_features(1, 'train', 'one')\n",
    "model.fit(X_train, initial_label)"
   ]
  },
  {
   "cell_type": "code",
   "execution_count": 3,
   "metadata": {},
   "outputs": [
    {
     "name": "stdout",
     "output_type": "stream",
     "text": [
      "0.8536\n"
     ]
    }
   ],
   "source": [
    "X_eval = l_features(1, 'eval', 'one')\n",
    "y_eval = load_data(1, 'eval', 'one', y_only=True)\n",
    "y_pred = model.predict(X_eval)\n",
    "print(np.mean(y_eval == y_pred))"
   ]
  },
  {
   "cell_type": "code",
   "execution_count": 5,
   "metadata": {},
   "outputs": [
    {
     "name": "stdout",
     "output_type": "stream",
     "text": [
      "Running 2\n",
      "78.44 77.32 \n",
      "Running 3\n",
      "74.88 "
     ]
    },
    {
     "ename": "KeyboardInterrupt",
     "evalue": "",
     "output_type": "error",
     "traceback": [
      "\u001b[1;31m---------------------------------------------------------------------------\u001b[0m",
      "\u001b[1;31mKeyboardInterrupt\u001b[0m                         Traceback (most recent call last)",
      "Cell \u001b[1;32mIn[5], line 19\u001b[0m\n\u001b[0;32m     17\u001b[0m y \u001b[38;5;241m=\u001b[39m load_data(j, \u001b[38;5;124m'\u001b[39m\u001b[38;5;124meval\u001b[39m\u001b[38;5;124m'\u001b[39m, \u001b[38;5;124m'\u001b[39m\u001b[38;5;124mone\u001b[39m\u001b[38;5;124m'\u001b[39m, y_only\u001b[38;5;241m=\u001b[39m\u001b[38;5;28;01mTrue\u001b[39;00m)\n\u001b[0;32m     18\u001b[0m X \u001b[38;5;241m=\u001b[39m l_features(j, \u001b[38;5;124m'\u001b[39m\u001b[38;5;124meval\u001b[39m\u001b[38;5;124m'\u001b[39m, \u001b[38;5;124m'\u001b[39m\u001b[38;5;124mone\u001b[39m\u001b[38;5;124m'\u001b[39m)\n\u001b[1;32m---> 19\u001b[0m y_pred \u001b[38;5;241m=\u001b[39m \u001b[43mmodel\u001b[49m\u001b[38;5;241;43m.\u001b[39;49m\u001b[43mpredict\u001b[49m\u001b[43m(\u001b[49m\u001b[43mX\u001b[49m\u001b[43m,\u001b[49m\u001b[43m \u001b[49m\u001b[38;5;124;43m'\u001b[39;49m\u001b[38;5;124;43meuc\u001b[39;49m\u001b[38;5;124;43m'\u001b[39;49m\u001b[43m)\u001b[49m\n\u001b[0;32m     21\u001b[0m acc \u001b[38;5;241m=\u001b[39m np\u001b[38;5;241m.\u001b[39mmean(y_pred \u001b[38;5;241m==\u001b[39m y)\n\u001b[0;32m     22\u001b[0m \u001b[38;5;66;03m# res[i - 1][j - 1] = f'{acc * 100:.2f}'\u001b[39;00m\n",
      "File \u001b[1;32mc:\\Users\\total\\OneDrive\\Desktop\\wf\\coursework\\this_sem\\CS771\\proj_ii\\RASNA_II\\LwP_.py:164\u001b[0m, in \u001b[0;36mLwP.predict\u001b[1;34m(self, X, name)\u001b[0m\n\u001b[0;32m    162\u001b[0m     distances \u001b[38;5;241m=\u001b[39m np\u001b[38;5;241m.\u001b[39mzeros(\u001b[38;5;28mlen\u001b[39m(\u001b[38;5;28mself\u001b[39m\u001b[38;5;241m.\u001b[39mlabels))\n\u001b[0;32m    163\u001b[0m     \u001b[38;5;28;01mfor\u001b[39;00m j, prototype \u001b[38;5;129;01min\u001b[39;00m \u001b[38;5;28menumerate\u001b[39m(\u001b[38;5;28mself\u001b[39m\u001b[38;5;241m.\u001b[39mprototypes):\n\u001b[1;32m--> 164\u001b[0m         distances[j] \u001b[38;5;241m=\u001b[39m \u001b[38;5;28;43mself\u001b[39;49m\u001b[38;5;241;43m.\u001b[39;49m\u001b[43mdistance\u001b[49m\u001b[43m(\u001b[49m\u001b[43mX\u001b[49m\u001b[43m[\u001b[49m\u001b[43mi\u001b[49m\u001b[43m]\u001b[49m\u001b[43m,\u001b[49m\u001b[43m \u001b[49m\u001b[43mprototype\u001b[49m\u001b[43m,\u001b[49m\u001b[43m \u001b[49m\u001b[43mname\u001b[49m\u001b[43m)\u001b[49m\n\u001b[0;32m    165\u001b[0m     predictions[i] \u001b[38;5;241m=\u001b[39m \u001b[38;5;28mself\u001b[39m\u001b[38;5;241m.\u001b[39mlabels[np\u001b[38;5;241m.\u001b[39margmin(distances)]\n\u001b[0;32m    167\u001b[0m \u001b[38;5;28;01mreturn\u001b[39;00m predictions\n",
      "File \u001b[1;32mc:\\Users\\total\\OneDrive\\Desktop\\wf\\coursework\\this_sem\\CS771\\proj_ii\\RASNA_II\\LwP_.py:53\u001b[0m, in \u001b[0;36mLwP.distance\u001b[1;34m(self, a, b, name)\u001b[0m\n\u001b[0;32m     51\u001b[0m diff \u001b[38;5;241m=\u001b[39m a \u001b[38;5;241m-\u001b[39m b\n\u001b[0;32m     52\u001b[0m mat \u001b[38;5;241m=\u001b[39m \u001b[38;5;28mself\u001b[39m\u001b[38;5;241m.\u001b[39minv_cov_matrix \u001b[38;5;28;01mif\u001b[39;00m name \u001b[38;5;241m==\u001b[39m \u001b[38;5;124m'\u001b[39m\u001b[38;5;124mmahalanobis\u001b[39m\u001b[38;5;124m'\u001b[39m \u001b[38;5;28;01melse\u001b[39;00m np\u001b[38;5;241m.\u001b[39meye(a\u001b[38;5;241m.\u001b[39mshape[\u001b[38;5;241m0\u001b[39m])\n\u001b[1;32m---> 53\u001b[0m \u001b[38;5;28;01mreturn\u001b[39;00m np\u001b[38;5;241m.\u001b[39msqrt(np\u001b[38;5;241m.\u001b[39mdot(\u001b[43mnp\u001b[49m\u001b[38;5;241;43m.\u001b[39;49m\u001b[43mdot\u001b[49m\u001b[43m(\u001b[49m\u001b[43mdiff\u001b[49m\u001b[43m,\u001b[49m\u001b[43m \u001b[49m\u001b[43mmat\u001b[49m\u001b[43m)\u001b[49m, diff\u001b[38;5;241m.\u001b[39mT))\n",
      "\u001b[1;31mKeyboardInterrupt\u001b[0m: "
     ]
    }
   ],
   "source": [
    "for i in range(2, 11): # for part two\n",
    "    print(f'Running {i}')\n",
    "\n",
    "    X = l_features(i, 'train', 'one')\n",
    "    im = load_data(i, 'train', 'one')\n",
    "\n",
    "    X_opt, y_opt = model.top_k(X, 50*(i - 1), indices=True)\n",
    "    X_new = np.asanyarray([im[i] for i in X_opt])\n",
    "    X_new = ((torch.tensor(X_new)).float() / 255.0).permute(0, 3, 1, 2).cuda()\n",
    "    X_gen, y_gen = sampler().generate(X_new, torch.tensor(y_opt), 1)\n",
    "    X_gen = extract_features(X_gen)\n",
    "\n",
    "    # X_new, y_new = model2.top_k(X_new, 10*(i - 1))\n",
    "    if (i != 1): model.update(X_gen, y_gen, True)\n",
    "\n",
    "    for j in range(1, i + 1):\n",
    "        y = load_data(j, 'eval', 'one', y_only=True)\n",
    "        X = l_features(j, 'eval', 'one')\n",
    "        y_pred = model.predict(X, 'euc')\n",
    "\n",
    "        acc = np.mean(y_pred == y)\n",
    "        # res[i - 1][j - 1] = f'{acc * 100:.2f}'\n",
    "        print(f'{acc * 100:.2f}', end=' ')\n",
    "\n",
    "    print()"
   ]
  },
  {
   "cell_type": "code",
   "execution_count": null,
   "metadata": {},
   "outputs": [],
   "source": []
  }
 ],
 "metadata": {
  "kernelspec": {
   "display_name": "proj",
   "language": "python",
   "name": "python3"
  },
  "language_info": {
   "codemirror_mode": {
    "name": "ipython",
    "version": 3
   },
   "file_extension": ".py",
   "mimetype": "text/x-python",
   "name": "python",
   "nbconvert_exporter": "python",
   "pygments_lexer": "ipython3",
   "version": "3.12.5"
  }
 },
 "nbformat": 4,
 "nbformat_minor": 2
}
